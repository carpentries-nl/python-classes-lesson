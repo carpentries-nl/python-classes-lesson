{
 "cells": [
  {
   "cell_type": "markdown",
   "metadata": {},
   "source": [
    "# Advanced Python\n",
    "\n",
    "Topics:\n",
    "- Objects and Classes\n",
    "- Inhertitance\n",
    "- Duck typing\n",
    "\n",
    "_Instructional material, unless otherwise indicated, by Markus van Dijk (SURFsara). Made available under **CC0** https://creativecommons.org/publicdomain/zero/1.0/_"
   ]
  },
  {
   "cell_type": "markdown",
   "metadata": {},
   "source": [
    "# Objects and Classes\n",
    "\n",
    "- Classes define logical collections of attributes describing a kind of object.\n",
    "- Objects: instances of classes."
   ]
  },
  {
   "cell_type": "code",
   "execution_count": null,
   "metadata": {
    "collapsed": false
   },
   "outputs": [],
   "source": [
    "class Apple:\n",
    "    color = 'green' # class variable a.k.a. class property a.k.a. class attribute\n",
    "    taste = 'sweet'\n",
    "    \n",
    "    def greet(self): # instance method defined in the class\n",
    "        print('Hi, my taste is', self.taste)"
   ]
  },
  {
   "cell_type": "markdown",
   "metadata": {},
   "source": [
    "`Apple` is a **class**, `Apple()` creates an **instance**"
   ]
  },
  {
   "cell_type": "code",
   "execution_count": null,
   "metadata": {
    "collapsed": true
   },
   "outputs": [],
   "source": [
    "my_apple = Apple()\n",
    "my_apple.taste = 'bitter' # override 'Apple.taste' with instance variable/attribute/property"
   ]
  },
  {
   "cell_type": "code",
   "execution_count": null,
   "metadata": {
    "collapsed": false
   },
   "outputs": [],
   "source": [
    "Apple.taste"
   ]
  },
  {
   "cell_type": "code",
   "execution_count": null,
   "metadata": {
    "collapsed": false
   },
   "outputs": [],
   "source": [
    "my_apple.greet()"
   ]
  },
  {
   "cell_type": "code",
   "execution_count": null,
   "metadata": {
    "collapsed": false
   },
   "outputs": [],
   "source": [
    "Apple.greet()"
   ]
  },
  {
   "cell_type": "markdown",
   "metadata": {},
   "source": [
    "Change the class property and all instances are affected."
   ]
  },
  {
   "cell_type": "code",
   "execution_count": null,
   "metadata": {
    "collapsed": false
   },
   "outputs": [],
   "source": [
    "my_apple.color"
   ]
  },
  {
   "cell_type": "code",
   "execution_count": null,
   "metadata": {
    "collapsed": false
   },
   "outputs": [],
   "source": [
    "Apple.color = 'yellow'\n",
    "my_apple.color"
   ]
  },
  {
   "cell_type": "markdown",
   "metadata": {},
   "source": [
    "But instance properties are unaffected..."
   ]
  },
  {
   "cell_type": "code",
   "execution_count": null,
   "metadata": {
    "collapsed": false
   },
   "outputs": [],
   "source": [
    "Apple.taste = 'sugary'\n",
    "print('class:', Apple.taste, 'instance:', my_apple.taste)"
   ]
  },
  {
   "cell_type": "markdown",
   "metadata": {},
   "source": [
    "### Confused?\n",
    "\n",
    "You should be. \n",
    "Play and discover. Drink more coffee."
   ]
  },
  {
   "cell_type": "markdown",
   "metadata": {},
   "source": [
    "## Everything in Python is an object\n",
    "\n",
    "Java: `10` is not the same as `Int(10)`.\n",
    "Python: `10` is identical to `int('10')`."
   ]
  },
  {
   "cell_type": "code",
   "execution_count": null,
   "metadata": {
    "collapsed": false,
    "scrolled": true
   },
   "outputs": [],
   "source": [
    "i10 = int('10')\n",
    "i10, type(i10), type(10), i10 is 10"
   ]
  },
  {
   "cell_type": "code",
   "execution_count": null,
   "metadata": {
    "collapsed": false
   },
   "outputs": [],
   "source": [
    "int(2), int('10', base=2)"
   ]
  },
  {
   "cell_type": "code",
   "execution_count": null,
   "metadata": {
    "collapsed": false
   },
   "outputs": [],
   "source": [
    "'{0:b}'.format(30), (30).bit_length()"
   ]
  },
  {
   "cell_type": "markdown",
   "metadata": {},
   "source": [
    "_Q: Why is the expression above_ **`(30)`**`.bit_length()` _and not_ **`30`**`.bit_length()` _?_"
   ]
  },
  {
   "cell_type": "code",
   "execution_count": null,
   "metadata": {
    "collapsed": false
   },
   "outputs": [],
   "source": [
    "type(my_apple)"
   ]
  },
  {
   "cell_type": "code",
   "execution_count": null,
   "metadata": {
    "collapsed": false
   },
   "outputs": [],
   "source": [
    "isinstance(my_apple, Apple)"
   ]
  },
  {
   "cell_type": "code",
   "execution_count": null,
   "metadata": {
    "collapsed": false
   },
   "outputs": [],
   "source": [
    "isinstance(my_apple, int)"
   ]
  },
  {
   "cell_type": "code",
   "execution_count": null,
   "metadata": {
    "collapsed": false
   },
   "outputs": [],
   "source": [
    "isinstance(3, int)"
   ]
  },
  {
   "cell_type": "code",
   "execution_count": null,
   "metadata": {
    "collapsed": false
   },
   "outputs": [],
   "source": [
    "isinstance(3, Apple)"
   ]
  },
  {
   "cell_type": "code",
   "execution_count": null,
   "metadata": {
    "collapsed": false
   },
   "outputs": [],
   "source": [
    "isinstance(Apple, Apple)"
   ]
  },
  {
   "cell_type": "markdown",
   "metadata": {},
   "source": [
    "## Instantiation and initialization"
   ]
  },
  {
   "cell_type": "code",
   "execution_count": null,
   "metadata": {
    "collapsed": false
   },
   "outputs": [],
   "source": [
    "from datetime import date, timedelta\n",
    "\n",
    "class Apple:\n",
    "    color = 'green' # class variable a.k.a. class property a.k.a. class attribute\n",
    "    taste = 'sweet'\n",
    "    \n",
    "    def __init__(self, fresh_until = None):\n",
    "        if fresh_until is None:\n",
    "            fresh_until = date.today() + timedelta(days=5)\n",
    "        self.fresh_until = fresh_until # instance variable/attribute/property\n",
    "    \n",
    "    def greet(self): # instance method defined in the class\n",
    "        print('Hi, my taste is', self.taste)\n",
    "\n",
    "    def is_fresh(self):\n",
    "        print('debug: fresh until', self.fresh_until.isoformat())\n",
    "        return date.today() <= self.fresh_until"
   ]
  },
  {
   "cell_type": "code",
   "execution_count": null,
   "metadata": {
    "collapsed": false
   },
   "outputs": [],
   "source": [
    "my_apple = Apple()\n",
    "my_apple.is_fresh()"
   ]
  },
  {
   "cell_type": "code",
   "execution_count": null,
   "metadata": {
    "collapsed": false
   },
   "outputs": [],
   "source": [
    "my_apple = Apple(date(1900, 1, 1))\n",
    "my_apple.is_fresh()"
   ]
  },
  {
   "cell_type": "markdown",
   "metadata": {},
   "source": [
    "# Other useful methods"
   ]
  },
  {
   "cell_type": "code",
   "execution_count": null,
   "metadata": {
    "collapsed": false
   },
   "outputs": [],
   "source": [
    "class X:\n",
    "    def __init__(self, **kwargs):\n",
    "        self.stuff = kwargs\n",
    "        \n",
    "    def __str__(self):  # used for str()\n",
    "        return str(self.stuff)\n",
    "    \n",
    "    def __repr__(self):  # used for repr()\n",
    "        return 'X({})'.format(repr(self.stuff))"
   ]
  },
  {
   "cell_type": "code",
   "execution_count": null,
   "metadata": {
    "collapsed": false
   },
   "outputs": [],
   "source": [
    "x = X(random=42)\n",
    "print('str:', str(x), 'repr:', repr(x))"
   ]
  },
  {
   "cell_type": "code",
   "execution_count": null,
   "metadata": {
    "collapsed": false
   },
   "outputs": [],
   "source": [
    "x = X(true=False)\n",
    "print(x)\n",
    "x"
   ]
  },
  {
   "cell_type": "markdown",
   "metadata": {},
   "source": [
    "# Inheritance\n",
    "\n",
    "- Class hierarchy allows specialization through inheritance."
   ]
  },
  {
   "cell_type": "code",
   "execution_count": null,
   "metadata": {
    "collapsed": false
   },
   "outputs": [],
   "source": [
    "class GoldenDelicious(Apple):\n",
    "    # hey! no __init__()!\n",
    "    taste = 'fresh' # override class variable in Apple"
   ]
  },
  {
   "cell_type": "code",
   "execution_count": null,
   "metadata": {
    "collapsed": false
   },
   "outputs": [],
   "source": [
    "Apple.taste"
   ]
  },
  {
   "cell_type": "code",
   "execution_count": null,
   "metadata": {
    "collapsed": false
   },
   "outputs": [],
   "source": [
    "GoldenDelicious.taste"
   ]
  },
  {
   "cell_type": "code",
   "execution_count": null,
   "metadata": {
    "collapsed": false
   },
   "outputs": [],
   "source": [
    "my_apple = GoldenDelicious()\n",
    "my_apple.taste"
   ]
  },
  {
   "cell_type": "code",
   "execution_count": null,
   "metadata": {
    "collapsed": false
   },
   "outputs": [],
   "source": [
    "my_apple.taste = 'bitter' # override with instance variable (!)\n",
    "my_apple.taste"
   ]
  },
  {
   "cell_type": "code",
   "execution_count": null,
   "metadata": {
    "collapsed": false
   },
   "outputs": [],
   "source": [
    "GoldenDelicious.taste = 'sour'\n",
    "my_apple.greet() # method 'greet()' is defined where?"
   ]
  },
  {
   "cell_type": "code",
   "execution_count": null,
   "metadata": {
    "collapsed": true
   },
   "outputs": [],
   "source": [
    "class Cox(Apple):\n",
    "    def __init__(self, fresh_until = None):\n",
    "        # this apple race's default fresh_until is much longer...\n",
    "        if fresh_until is None:\n",
    "            fresh_until = date.today() + timedelta(days=15)\n",
    "        super().__init__(fresh_until) # invoke initialization of parent class"
   ]
  },
  {
   "cell_type": "code",
   "execution_count": null,
   "metadata": {
    "collapsed": false
   },
   "outputs": [],
   "source": [
    "my_apple = Cox()\n",
    "my_apple.is_fresh()"
   ]
  },
  {
   "cell_type": "markdown",
   "metadata": {},
   "source": [
    "### Play\n",
    "\n",
    "Confuse yourself by playing with class variables and see how this influences objects created before and after."
   ]
  },
  {
   "cell_type": "markdown",
   "metadata": {},
   "source": [
    "### Challenge\n",
    "\n",
    "1. Write several classes of animal that have class `Animal` (example below) as their parent and print their respective sound when `animal.speak()` is called. E.g. `kitty.speak()` should print `meow`.\n",
    "2. Test with plain animal objects (instantiations of these classes) and also with animals that deviate from the class default.\n",
    "4. Create at least one class of animal that does **not** have `Animal` as a direct parent but as a grand parent.\n",
    "4. Add a name variable and use it in one or more methods.\n",
    "5. Reflect on the mess you just created :-)"
   ]
  },
  {
   "cell_type": "code",
   "execution_count": null,
   "metadata": {
    "collapsed": true
   },
   "outputs": [],
   "source": [
    "class Animal:\n",
    "    def __init__(self, sound=None):\n",
    "        self.sound = sound\n",
    "    \n",
    "    def speak(self):\n",
    "        raise RuntimeError(\"Don't know how to speak\")"
   ]
  },
  {
   "cell_type": "markdown",
   "metadata": {},
   "source": [
    "### Multiple inheritance\n",
    "\n",
    "Inheriting from multiple parent classes is possible, but complicated and we will not go into it here."
   ]
  },
  {
   "cell_type": "markdown",
   "metadata": {},
   "source": [
    "# Duck typing\n",
    "\n",
    "Java is a strongly typed language, Python is not.\n",
    "\n",
    "> When I see a bird that walks like a duck and swims like a duck and quacks like a duck, I call that bird a duck.\"\n",
    ">\n",
    "> _attr. James Whitcomb Riley (1849–1916)_"
   ]
  },
  {
   "cell_type": "code",
   "execution_count": null,
   "metadata": {
    "collapsed": false
   },
   "outputs": [],
   "source": [
    "# from en.wikipedia.org/wiki/Duck_typing#In_Python\n",
    "\n",
    "class Duck:\n",
    "    def quack(self):\n",
    "        print(\"Quack, quack!\");\n",
    "\n",
    "    def fly(self):\n",
    "        print(\"Flap, Flap!\");\n",
    "\n",
    "\n",
    "class Person:\n",
    "    def quack(self):\n",
    "        print(\"I'm Quackin'!\");\n",
    "\n",
    "    def fly(self):\n",
    "        print(\"I'm Flyin'!\");\n",
    "\n",
    "\n",
    "def in_the_forest(mallard):\n",
    "    mallard.quack()\n",
    "    mallard.fly()"
   ]
  },
  {
   "cell_type": "code",
   "execution_count": null,
   "metadata": {
    "collapsed": false
   },
   "outputs": [],
   "source": [
    "d = Duck()\n",
    "isinstance(d, Duck)"
   ]
  },
  {
   "cell_type": "code",
   "execution_count": null,
   "metadata": {
    "collapsed": false
   },
   "outputs": [],
   "source": [
    "isinstance(d, Person)"
   ]
  },
  {
   "cell_type": "code",
   "execution_count": null,
   "metadata": {
    "collapsed": false
   },
   "outputs": [],
   "source": [
    "in_the_forest(Duck())"
   ]
  },
  {
   "cell_type": "code",
   "execution_count": null,
   "metadata": {
    "collapsed": false
   },
   "outputs": [],
   "source": [
    "in_the_forest(Person())"
   ]
  },
  {
   "cell_type": "markdown",
   "metadata": {},
   "source": [
    "But:\n",
    "\n",
    "> If it looks like a duck and quacks like a duck but it needs batteries, you probably have the wrong abstraction.\n",
    ">\n",
    "> _Derick Bailey_"
   ]
  }
 ],
 "metadata": {
  "kernelspec": {
   "display_name": "Python 3",
   "language": "python",
   "name": "python3"
  },
  "language_info": {
   "codemirror_mode": {
    "name": "ipython",
    "version": 3
   },
   "file_extension": ".py",
   "mimetype": "text/x-python",
   "name": "python",
   "nbconvert_exporter": "python",
   "pygments_lexer": "ipython3",
   "version": "3.5.1"
  }
 },
 "nbformat": 4,
 "nbformat_minor": 0
}
